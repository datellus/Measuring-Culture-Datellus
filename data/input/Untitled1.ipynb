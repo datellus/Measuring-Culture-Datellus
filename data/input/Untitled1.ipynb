{
 "cells": [
  {
   "cell_type": "code",
   "execution_count": 1,
   "id": "6d018a4c-bbdb-48d1-b926-5e626ff24640",
   "metadata": {},
   "outputs": [],
   "source": [
    "import stanza"
   ]
  },
  {
   "cell_type": "code",
   "execution_count": 2,
   "id": "786c80c6-4969-4cc9-9539-cd286ac7ec4b",
   "metadata": {},
   "outputs": [],
   "source": [
    "#stanza.install_corenlp()"
   ]
  },
  {
   "cell_type": "code",
   "execution_count": 3,
   "id": "ebbc3de1-a9f9-47f9-bb82-a9e134e73c3b",
   "metadata": {},
   "outputs": [],
   "source": [
    "import os"
   ]
  },
  {
   "cell_type": "code",
   "execution_count": 4,
   "id": "829e291d-5bbe-407a-980a-5fa5a0476fdb",
   "metadata": {},
   "outputs": [
    {
     "name": "stdout",
     "output_type": "stream",
     "text": [
      "environ({'ADD_PATH': 'C:\\\\Users\\\\Marcelojtc\\\\cmder_mini', 'ADD_TO_PATH': 'C:\\\\Users\\\\Marcelojtc\\\\cmder_mini', 'ALIASES': 'C:\\\\Users\\\\Marcelojtc\\\\cmder_mini\\\\config\\\\user_aliases.cmd', 'ALLUSERSPROFILE': 'C:\\\\ProgramData', 'ANSICON': '196x1000 (196x39)', 'ANSICON_DEF': '7', 'APPDATA': 'C:\\\\Users\\\\Marcelojtc\\\\AppData\\\\Roaming', 'ARCHITECTURE_BITS': '64', 'CCALL': 'call \"C:\\\\Users\\\\Marcelojtc\\\\cmder_mini\\\\vendor\\\\bin\\\\cexec.cmd\"', 'CEXEC': '\"C:\\\\Users\\\\Marcelojtc\\\\cmder_mini\\\\vendor\\\\bin\\\\cexec.cmd\"', 'CLINK_ARCHITECTURE': 'x64', 'CLINK_COMPLETIONS_DIR': 'C:\\\\Users\\\\Marcelojtc\\\\cmder_mini/vendor/clink-completions/completions', 'CLINK_DUMMY_CAPTURE_ENV': ' ', 'CMDER_ALIASES': '1', 'CMDER_CLINK': '1', 'CMDER_CONFIGURED': '1', 'CMDER_INIT_END': ' 8:58:20,55', 'CMDER_INIT_START': ' 8:58:19,29', 'CMDER_ROOT': 'C:\\\\Users\\\\Marcelojtc\\\\cmder_mini', 'CMDER_SHELL': 'cmd', 'CMDER_USER_FLAGS': ' ', 'COLUMNS': '196', 'COMMONPROGRAMFILES': 'C:\\\\Program Files\\\\Common Files', 'COMMONPROGRAMFILES(X86)': 'C:\\\\Program Files (x86)\\\\Common Files', 'COMMONPROGRAMW6432': 'C:\\\\Program Files\\\\Common Files', 'COMPUTERNAME': 'MARCELO', 'COMSPEC': 'C:\\\\Windows\\\\system32\\\\cmd.exe', 'CONDA_DEFAULT_ENV': 'dsenv', 'CONDA_EXE': 'C:\\\\Users\\\\Marcelojtc\\\\anaconda3\\\\Scripts\\\\conda.exe', 'CONDA_PREFIX': 'C:\\\\Users\\\\Marcelojtc\\\\anaconda3\\\\envs\\\\dsenv', 'CONDA_PROMPT_MODIFIER': '(dsenv) ', 'CONDA_PYTHON_EXE': 'C:\\\\Users\\\\Marcelojtc\\\\anaconda3\\\\python.exe', 'CONDA_SHLVL': '1', 'CONEMUANSI': 'ON', 'CONEMUANSILOG': '', 'CONEMUARGS': '/Icon \"C:\\\\Users\\\\Marcelojtc\\\\cmder_mini\\\\icons\\\\cmder.ico\" /title \"Cmder\"', 'CONEMUARGS2': '', 'CONEMUBACKHWND': '0x000206A6', 'CONEMUBASEDIR': 'C:\\\\Users\\\\Marcelojtc\\\\cmder_mini\\\\vendor\\\\conemu-maximus5\\\\ConEmu', 'CONEMUBASEDIRSHORT': 'C:\\\\Users\\\\Marcelojtc\\\\cmder_mini\\\\vendor\\\\conemu-maximus5\\\\ConEmu', 'CONEMUBUILD': '220807', 'CONEMUCFGDIR': 'C:\\\\Users\\\\Marcelojtc\\\\cmder_mini\\\\vendor\\\\conemu-maximus5', 'CONEMUCONFIG': '', 'CONEMUDIR': 'C:\\\\Users\\\\Marcelojtc\\\\cmder_mini\\\\vendor\\\\conemu-maximus5', 'CONEMUDRAWHWND': '0x000206A8', 'CONEMUDRIVE': 'C:', 'CONEMUHOOKS': 'Enabled', 'CONEMUHWND': '0x00020694', 'CONEMUPALETTE': 'Monokai', 'CONEMUPID': '8092', 'CONEMUSERVERPID': '12272', 'CONEMUTASK': '{cmd::Cmder}', 'CONEMUWORKDIR': 'C:\\\\Users\\\\Marcelojtc\\\\cmder_mini', 'CONEMUWORKDRIVE': 'C:', 'CURRENARGU': '/setpath', 'DEBUG_OUTPUT': '0', 'DEPTH': '1', 'DRIVERDATA': 'C:\\\\Windows\\\\System32\\\\Drivers\\\\DriverData', 'FAST_INIT': '0', 'FEFLAGNAME': ' ', 'FENOT': 'false', 'FIND_QUERY': 'C:\\\\\\\\Users\\\\\\\\Marcelojtc\\\\\\\\cmder_mini', 'FOUND': '1', 'FPS_BROWSER_APP_PROFILE_STRING': 'Internet Explorer', 'FPS_BROWSER_USER_PROFILE_STRING': 'Default', 'GIT_EXECUTABLE': 'C:\\\\Program Files\\\\Git\\\\cmd\\\\git.exe', 'GIT_INSTALL_ROOT': 'C:\\\\Program Files\\\\Git', 'GIT_LOCALE': '\"C:\\\\Program Files\\\\Git\\\\usr\\\\bin\\\\locale.exe\"', 'GIT_VERSION_USER': '2.38.1.windows.1', 'HOME': 'C:\\\\Users\\\\Marcelojtc', 'HOMEDRIVE': 'C:', 'HOMEPATH': '\\\\Users\\\\Marcelojtc', 'LANG': 'es_ES.UTF-8', 'LIB_BASE': 'call \"C:\\\\Users\\\\Marcelojtc\\\\cmder_mini\\\\vendor\\\\lib\\\\lib_base.cmd\"', 'LIB_CONSOLE': 'call \"C:\\\\Users\\\\Marcelojtc\\\\cmder_mini\\\\vendor\\\\lib\\\\lib_console.cmd\"', 'LIB_GIT': 'call \"C:\\\\Users\\\\Marcelojtc\\\\cmder_mini\\\\vendor\\\\lib\\\\lib_git.cmd\"', 'LIB_PATH': 'call \"C:\\\\Users\\\\Marcelojtc\\\\cmder_mini\\\\vendor\\\\lib\\\\lib_path.cmd\"', 'LIB_PROFILE': 'call \"C:\\\\Users\\\\Marcelojtc\\\\cmder_mini\\\\vendor\\\\lib\\\\lib_profile.cmd\"', 'LINES': '39', 'LOCALAPPDATA': 'C:\\\\Users\\\\Marcelojtc\\\\AppData\\\\Local', 'LOGONSERVER': '\\\\\\\\MARCELO', 'MAX_DEPTH': '1', 'NIX_TOOLS': '1', 'NUMBER_OF_PROCESSORS': '8', 'OLD_PATH': 'C:\\\\Users\\\\Marcelojtc\\\\cmder_mini\\\\vendor\\\\conemu-maximus5\\\\ConEmu\\\\Scripts;C:\\\\Users\\\\Marcelojtc\\\\cmder_mini\\\\vendor\\\\conemu-maximus5;C:\\\\Users\\\\Marcelojtc\\\\cmder_mini\\\\vendor\\\\conemu-maximus5\\\\ConEmu;C:\\\\Windows\\\\system32;C:\\\\Windows;C:\\\\Windows\\\\System32\\\\Wbem;C:\\\\Windows\\\\System32\\\\WindowsPowerShell\\\\v1.0\\\\;C:\\\\Windows\\\\System32\\\\OpenSSH\\\\;C:\\\\Program Files\\\\Git\\\\cmd;C:\\\\Users\\\\Marcelojtc\\\\anaconda3;C:\\\\Users\\\\Marcelojtc\\\\anaconda3\\\\Library\\\\mingw-w64\\\\bin;C:\\\\Users\\\\Marcelojtc\\\\anaconda3\\\\Library\\\\usr\\\\bin;C:\\\\Users\\\\Marcelojtc\\\\anaconda3\\\\Library\\\\bin;C:\\\\Users\\\\Marcelojtc\\\\anaconda3\\\\Scripts;C:\\\\Users\\\\Marcelojtc\\\\AppData\\\\Local\\\\Microsoft\\\\WindowsApps;C:\\\\Users\\\\Marcelojtc\\\\AppData\\\\Local\\\\Programs\\\\Microsoft VS Code\\\\bin;C:\\\\Program Files\\\\Git\\\\mingw64\\\\bin;C:\\\\Program Files\\\\Git\\\\usr\\\\bin;C:\\\\Users\\\\Marcelojtc\\\\cmder_mini\\\\vendor\\\\bin', 'ONEDRIVE': 'C:\\\\Users\\\\Marcelojtc\\\\OneDrive', 'OS': 'Windows_NT', 'PATH': 'C:\\\\Users\\\\Marcelojtc\\\\anaconda3\\\\envs\\\\dsenv;C:\\\\Users\\\\Marcelojtc\\\\anaconda3\\\\envs\\\\dsenv\\\\Library\\\\mingw-w64\\\\bin;C:\\\\Users\\\\Marcelojtc\\\\anaconda3\\\\envs\\\\dsenv\\\\Library\\\\usr\\\\bin;C:\\\\Users\\\\Marcelojtc\\\\anaconda3\\\\envs\\\\dsenv\\\\Library\\\\bin;C:\\\\Users\\\\Marcelojtc\\\\anaconda3\\\\envs\\\\dsenv\\\\Scripts;C:\\\\Users\\\\Marcelojtc\\\\anaconda3\\\\envs\\\\dsenv\\\\bin;C:\\\\Users\\\\Marcelojtc\\\\anaconda3\\\\condabin;C:\\\\Users\\\\Marcelojtc\\\\cmder_mini\\\\vendor\\\\conemu-maximus5\\\\ConEmu\\\\Scripts;C:\\\\Users\\\\Marcelojtc\\\\cmder_mini\\\\vendor\\\\conemu-maximus5;C:\\\\Users\\\\Marcelojtc\\\\cmder_mini\\\\vendor\\\\conemu-maximus5\\\\ConEmu;C:\\\\Windows\\\\system32;C:\\\\Windows;C:\\\\Windows\\\\System32\\\\Wbem;C:\\\\Windows\\\\System32\\\\WindowsPowerShell\\\\v1.0;C:\\\\Windows\\\\System32\\\\OpenSSH;C:\\\\Program Files\\\\Git\\\\cmd;C:\\\\Users\\\\Marcelojtc\\\\anaconda3;C:\\\\Users\\\\Marcelojtc\\\\anaconda3\\\\Library\\\\mingw-w64\\\\bin;C:\\\\Users\\\\Marcelojtc\\\\anaconda3\\\\Library\\\\usr\\\\bin;C:\\\\Users\\\\Marcelojtc\\\\anaconda3\\\\Library\\\\bin;C:\\\\Users\\\\Marcelojtc\\\\anaconda3\\\\Scripts;C:\\\\Users\\\\Marcelojtc\\\\AppData\\\\Local\\\\Microsoft\\\\WindowsApps;C:\\\\Users\\\\Marcelojtc\\\\AppData\\\\Local\\\\Programs\\\\Microsoft VS Code\\\\bin;C:\\\\Program Files\\\\Git\\\\mingw64\\\\bin;C:\\\\Program Files\\\\Git\\\\usr\\\\bin;C:\\\\Users\\\\Marcelojtc\\\\cmder_mini\\\\vendor\\\\bin;C:\\\\Users\\\\Marcelojtc\\\\cmder_mini', 'PATHEXT': '.COM;.EXE;.BAT;.CMD;.VBS;.VBE;.JS;.JSE;.WSF;.WSH;.MSC', 'PATH_POSITION': 'append', 'PLINK_PROTOCOL': 'ssh', 'POSITION': 'append', 'PRINT_DEBUG': 'if 0 gtr 0 call \"C:\\\\Users\\\\Marcelojtc\\\\cmder_mini\\\\vendor\\\\lib\\\\lib_console.cmd\" debug_output', 'PRINT_ERROR': 'call \"C:\\\\Users\\\\Marcelojtc\\\\cmder_mini\\\\vendor\\\\lib\\\\lib_console.cmd\" show_error', 'PRINT_VERBOSE': 'if 0 gtr 0 call \"C:\\\\Users\\\\Marcelojtc\\\\cmder_mini\\\\vendor\\\\lib\\\\lib_console.cmd\" verbose_output', 'PROCESSOR_ARCHITECTURE': 'AMD64', 'PROCESSOR_IDENTIFIER': 'Intel64 Family 6 Model 126 Stepping 5, GenuineIntel', 'PROCESSOR_LEVEL': '6', 'PROCESSOR_REVISION': '7e05', 'PROGRAMDATA': 'C:\\\\ProgramData', 'PROGRAMFILES': 'C:\\\\Program Files', 'PROGRAMFILES(X86)': 'C:\\\\Program Files (x86)', 'PROGRAMW6432': 'C:\\\\Program Files', 'PROMPT': 'C\\x08L\\x08I\\x08N\\x08K\\x08 \\x08(dsenv) C\\x08L\\x08I\\x08N\\x08K\\x08 \\x08$P$G', 'PSMODULEPATH': 'C:\\\\Program Files\\\\WindowsPowerShell\\\\Modules;C:\\\\Windows\\\\system32\\\\WindowsPowerShell\\\\v1.0\\\\Modules', 'PUBLIC': 'C:\\\\Users\\\\Public', 'SESSIONNAME': 'Console', 'SVN_SSH': 'C:\\\\\\\\Program Files\\\\\\\\Git\\\\\\\\bin\\\\\\\\ssh.exe', 'SYSTEMDRIVE': 'C:', 'SYSTEMROOT': 'C:\\\\Windows', 'TEMP': 'C:\\\\Users\\\\MARCEL~1\\\\AppData\\\\Local\\\\Temp', 'TIME_INIT': '0', 'TMP': 'C:\\\\Users\\\\MARCEL~1\\\\AppData\\\\Local\\\\Temp', 'USERDOMAIN': 'Marcelo', 'USERDOMAIN_ROAMINGPROFILE': 'Marcelo', 'USERNAME': 'Marcelojtc', 'USERPROFILE': 'C:\\\\Users\\\\Marcelojtc', 'USER_ALIASES': 'C:\\\\Users\\\\Marcelojtc\\\\cmder_mini\\\\config\\\\user_aliases.cmd', 'USER_BUILD': 'windows.1', 'USER_MAJOR': '2', 'USER_MINOR': '38', 'USER_PATCH': '1', 'VERBOSE_OUTPUT': '0', 'WINDIR': 'C:\\\\Windows', 'PYDEVD_USE_FRAME_EVAL': 'NO', 'JPY_INTERRUPT_EVENT': '4080', 'IPY_INTERRUPT_EVENT': '4080', 'JPY_PARENT_PID': '3608', 'TERM': 'xterm-color', 'CLICOLOR': '1', 'PAGER': 'cat', 'GIT_PAGER': 'cat', 'MPLBACKEND': 'module://matplotlib_inline.backend_inline'})\n"
     ]
    }
   ],
   "source": [
    "print(os.environ)"
   ]
  },
  {
   "cell_type": "code",
   "execution_count": 4,
   "id": "10684759-6e5f-40b0-9e46-dbee25a000ad",
   "metadata": {},
   "outputs": [
    {
     "name": "stderr",
     "output_type": "stream",
     "text": [
      "2022-11-18 23:30:32 INFO: Writing properties to tmp file: corenlp_server-d3fc9745d64a4c71.props\n"
     ]
    },
    {
     "name": "stdout",
     "output_type": "stream",
     "text": [
      "---\n",
      "input text\n",
      "\n",
      "Chris Manning is a nice person. Chris wrote a simple sentence. He also gives oranges to people.\n",
      "---\n",
      "starting up Java Stanford CoreNLP Server...\n"
     ]
    },
    {
     "ename": "FileNotFoundError",
     "evalue": "Please install CoreNLP by running `stanza.install_corenlp()`. If you have installed it, please define $CORENLP_HOME to be location of your CoreNLP distribution or pass in a classpath parameter.  $CORENLP_HOME=/stanfordstanza",
     "output_type": "error",
     "traceback": [
      "\u001b[1;31m---------------------------------------------------------------------------\u001b[0m",
      "\u001b[1;31mFileNotFoundError\u001b[0m                         Traceback (most recent call last)",
      "\u001b[1;32m~\\AppData\\Local\\Temp\\ipykernel_12668\\878101020.py\u001b[0m in \u001b[0;36m<module>\u001b[1;34m\u001b[0m\n\u001b[0;32m     18\u001b[0m \u001b[1;33m\u001b[0m\u001b[0m\n\u001b[0;32m     19\u001b[0m \u001b[1;31m# set up the client\u001b[0m\u001b[1;33m\u001b[0m\u001b[1;33m\u001b[0m\u001b[0m\n\u001b[1;32m---> 20\u001b[1;33m \u001b[1;32mwith\u001b[0m \u001b[0mCoreNLPClient\u001b[0m\u001b[1;33m(\u001b[0m\u001b[0mannotators\u001b[0m\u001b[1;33m=\u001b[0m\u001b[1;33m[\u001b[0m\u001b[1;34m'tokenize'\u001b[0m\u001b[1;33m,\u001b[0m\u001b[1;34m'ssplit'\u001b[0m\u001b[1;33m,\u001b[0m\u001b[1;34m'pos'\u001b[0m\u001b[1;33m,\u001b[0m\u001b[1;34m'lemma'\u001b[0m\u001b[1;33m,\u001b[0m\u001b[1;34m'ner'\u001b[0m\u001b[1;33m,\u001b[0m \u001b[1;34m'parse'\u001b[0m\u001b[1;33m,\u001b[0m \u001b[1;34m'depparse'\u001b[0m\u001b[1;33m,\u001b[0m\u001b[1;34m'coref'\u001b[0m\u001b[1;33m]\u001b[0m\u001b[1;33m,\u001b[0m \u001b[0mtimeout\u001b[0m\u001b[1;33m=\u001b[0m\u001b[1;36m30000\u001b[0m\u001b[1;33m,\u001b[0m \u001b[0mmemory\u001b[0m\u001b[1;33m=\u001b[0m\u001b[1;34m'16G'\u001b[0m\u001b[1;33m)\u001b[0m \u001b[1;32mas\u001b[0m \u001b[0mclient\u001b[0m\u001b[1;33m:\u001b[0m\u001b[1;33m\u001b[0m\u001b[1;33m\u001b[0m\u001b[0m\n\u001b[0m\u001b[0;32m     21\u001b[0m     \u001b[1;31m# submit the request to the server\u001b[0m\u001b[1;33m\u001b[0m\u001b[1;33m\u001b[0m\u001b[0m\n\u001b[0;32m     22\u001b[0m     \u001b[0mann\u001b[0m \u001b[1;33m=\u001b[0m \u001b[0mclient\u001b[0m\u001b[1;33m.\u001b[0m\u001b[0mannotate\u001b[0m\u001b[1;33m(\u001b[0m\u001b[0mtext\u001b[0m\u001b[1;33m)\u001b[0m\u001b[1;33m\u001b[0m\u001b[1;33m\u001b[0m\u001b[0m\n",
      "\u001b[1;32mc:\\users\\marcelojtc\\desktop\\stanza\\stanza\\server\\client.py\u001b[0m in \u001b[0;36m__init__\u001b[1;34m(self, start_server, endpoint, timeout, threads, annotators, pretokenized, output_format, properties, stdout, stderr, memory, be_quiet, max_char_length, preload, classpath, **kwargs)\u001b[0m\n\u001b[0;32m    304\u001b[0m             \u001b[0mport\u001b[0m \u001b[1;33m=\u001b[0m \u001b[0mint\u001b[0m\u001b[1;33m(\u001b[0m\u001b[0mport\u001b[0m\u001b[1;33m)\u001b[0m\u001b[1;33m\u001b[0m\u001b[1;33m\u001b[0m\u001b[0m\n\u001b[0;32m    305\u001b[0m             \u001b[1;32massert\u001b[0m \u001b[0mhost\u001b[0m \u001b[1;33m==\u001b[0m \u001b[1;34m\"localhost\"\u001b[0m\u001b[1;33m,\u001b[0m \u001b[1;34m\"If starting a server, endpoint must be localhost\"\u001b[0m\u001b[1;33m\u001b[0m\u001b[1;33m\u001b[0m\u001b[0m\n\u001b[1;32m--> 306\u001b[1;33m             \u001b[0mclasspath\u001b[0m \u001b[1;33m=\u001b[0m \u001b[0mresolve_classpath\u001b[0m\u001b[1;33m(\u001b[0m\u001b[0mclasspath\u001b[0m\u001b[1;33m)\u001b[0m\u001b[1;33m\u001b[0m\u001b[1;33m\u001b[0m\u001b[0m\n\u001b[0m\u001b[0;32m    307\u001b[0m             \u001b[0mstart_cmd\u001b[0m \u001b[1;33m=\u001b[0m \u001b[1;34mf\"java -Xmx{memory} -cp '{classpath}'  edu.stanford.nlp.pipeline.StanfordCoreNLPServer \"\u001b[0m\u001b[0;31m \u001b[0m\u001b[0;31m\\\u001b[0m\u001b[1;33m\u001b[0m\u001b[1;33m\u001b[0m\u001b[0m\n\u001b[0;32m    308\u001b[0m                         \u001b[1;34mf\"-port {port} -timeout {timeout} -threads {threads} -maxCharLength {max_char_length} \"\u001b[0m\u001b[0;31m \u001b[0m\u001b[0;31m\\\u001b[0m\u001b[1;33m\u001b[0m\u001b[1;33m\u001b[0m\u001b[0m\n",
      "\u001b[1;32mc:\\users\\marcelojtc\\desktop\\stanza\\stanza\\server\\client.py\u001b[0m in \u001b[0;36mresolve_classpath\u001b[1;34m(classpath)\u001b[0m\n\u001b[0;32m    239\u001b[0m \u001b[1;33m\u001b[0m\u001b[0m\n\u001b[0;32m    240\u001b[0m         \u001b[1;32mif\u001b[0m \u001b[1;32mnot\u001b[0m \u001b[0mos\u001b[0m\u001b[1;33m.\u001b[0m\u001b[0mpath\u001b[0m\u001b[1;33m.\u001b[0m\u001b[0mexists\u001b[0m\u001b[1;33m(\u001b[0m\u001b[0mclasspath\u001b[0m\u001b[1;33m)\u001b[0m\u001b[1;33m:\u001b[0m\u001b[1;33m\u001b[0m\u001b[1;33m\u001b[0m\u001b[0m\n\u001b[1;32m--> 241\u001b[1;33m             raise FileNotFoundError(\"Please install CoreNLP by running `stanza.install_corenlp()`. If you have installed it, please define \"\n\u001b[0m\u001b[0;32m    242\u001b[0m                                     \u001b[1;34m\"$CORENLP_HOME to be location of your CoreNLP distribution or pass in a classpath parameter.  \"\u001b[0m\u001b[1;33m\u001b[0m\u001b[1;33m\u001b[0m\u001b[0m\n\u001b[0;32m    243\u001b[0m                                     \"$CORENLP_HOME={}\".format(os.getenv(\"CORENLP_HOME\")))\n",
      "\u001b[1;31mFileNotFoundError\u001b[0m: Please install CoreNLP by running `stanza.install_corenlp()`. If you have installed it, please define $CORENLP_HOME to be location of your CoreNLP distribution or pass in a classpath parameter.  $CORENLP_HOME=/stanfordstanza"
     ]
    }
   ],
   "source": [
    "from stanza.server import CoreNLPClient\n",
    "import os\n",
    "os.environ[\n",
    "    \"CORENLP_HOME\"\n",
    "] = \"/stanfordstanza\"\n",
    "# example text\n",
    "print('---')\n",
    "print('input text')\n",
    "print('')\n",
    "\n",
    "text = \"Chris Manning is a nice person. Chris wrote a simple sentence. He also gives oranges to people.\"\n",
    "\n",
    "print(text)\n",
    "\n",
    "# set up the client\n",
    "print('---')\n",
    "print('starting up Java Stanford CoreNLP Server...')\n",
    "\n",
    "# set up the client\n",
    "with CoreNLPClient(annotators=['tokenize','ssplit','pos','lemma','ner', 'parse', 'depparse','coref'], timeout=30000, memory='16G') as client:\n",
    "    # submit the request to the server\n",
    "    ann = client.annotate(text)\n",
    "\n",
    "    # get the first sentence\n",
    "    sentence = ann.sentence[0]\n",
    "    \n",
    "    # get the constituency parse of the first sentence\n",
    "    print('---')\n",
    "    print('constituency parse of first sentence')\n",
    "    constituency_parse = sentence.parseTree\n",
    "    print(constituency_parse)\n",
    "\n",
    "    # get the first subtree of the constituency parse\n",
    "    print('---')\n",
    "    print('first subtree of constituency parse')\n",
    "    print(constituency_parse.child[0])\n",
    "\n",
    "    # get the value of the first subtree\n",
    "    print('---')\n",
    "    print('value of first subtree of constituency parse')\n",
    "    print(constituency_parse.child[0].value)\n",
    "\n",
    "    # get the dependency parse of the first sentence\n",
    "    print('---')\n",
    "    print('dependency parse of first sentence')\n",
    "    dependency_parse = sentence.basicDependencies\n",
    "    print(dependency_parse)\n",
    "\n",
    "    # get the first token of the first sentence\n",
    "    print('---')\n",
    "    print('first token of first sentence')\n",
    "    token = sentence.token[0]\n",
    "    print(token)\n",
    "\n",
    "    # get the part-of-speech tag\n",
    "    print('---')\n",
    "    print('part of speech tag of token')\n",
    "    token.pos\n",
    "    print(token.pos)\n",
    "\n",
    "    # get the named entity tag\n",
    "    print('---')\n",
    "    print('named entity tag of token')\n",
    "    print(token.ner)\n",
    "\n",
    "    # get an entity mention from the first sentence\n",
    "    print('---')\n",
    "    print('first entity mention in sentence')\n",
    "    print(sentence.mentions[0])\n",
    "\n",
    "    # access the coref chain\n",
    "    print('---')\n",
    "    print('coref chains for the example')\n",
    "    print(ann.corefChain)\n",
    "\n",
    "    # Use tokensregex patterns to find who wrote a sentence.\n",
    "    pattern = '([ner: PERSON]+) /wrote/ /an?/ []{0,3} /sentence|article/'\n",
    "    matches = client.tokensregex(text, pattern)\n",
    "    # sentences contains a list with matches for each sentence.\n",
    "    assert len(matches[\"sentences\"]) == 3\n",
    "    # length tells you whether or not there are any matches in this\n",
    "    assert matches[\"sentences\"][1][\"length\"] == 1\n",
    "    # You can access matches like most regex groups.\n",
    "    matches[\"sentences\"][1][\"0\"][\"text\"] == \"Chris wrote a simple sentence\"\n",
    "    matches[\"sentences\"][1][\"0\"][\"1\"][\"text\"] == \"Chris\"\n",
    "\n",
    "    # Use semgrex patterns to directly find who wrote what.\n",
    "    pattern = '{word:wrote} >nsubj {}=subject >dobj {}=object'\n",
    "    matches = client.semgrex(text, pattern)\n",
    "    # sentences contains a list with matches for each sentence.\n",
    "    assert len(matches[\"sentences\"]) == 3\n",
    "    # length tells you whether or not there are any matches in this\n",
    "    assert matches[\"sentences\"][1][\"length\"] == 1\n",
    "    # You can access matches like most regex groups.\n",
    "    matches[\"sentences\"][1][\"0\"][\"text\"] == \"wrote\"\n",
    "    matches[\"sentences\"][1][\"0\"][\"$subject\"][\"text\"] == \"Chris\"\n",
    "    matches[\"sentences\"][1][\"0\"][\"$object\"][\"text\"] == \"sentence\""
   ]
  },
  {
   "cell_type": "code",
   "execution_count": 3,
   "id": "9949a433-c3ad-488e-a4a0-517845cb9a7f",
   "metadata": {},
   "outputs": [
    {
     "name": "stdout",
     "output_type": "stream",
     "text": [
      "Requirement already satisfied: stanfordnlp==0.2.0 in c:\\users\\marcelojtc\\anaconda3\\envs\\dsenv\\lib\\site-packages (0.2.0)\n",
      "Requirement already satisfied: tqdm in c:\\users\\marcelojtc\\anaconda3\\envs\\dsenv\\lib\\site-packages (from stanfordnlp==0.2.0) (4.64.1)\n",
      "Requirement already satisfied: requests in c:\\users\\marcelojtc\\anaconda3\\envs\\dsenv\\lib\\site-packages (from stanfordnlp==0.2.0) (2.28.1)\n",
      "Requirement already satisfied: protobuf in c:\\users\\marcelojtc\\anaconda3\\envs\\dsenv\\lib\\site-packages (from stanfordnlp==0.2.0) (3.19.6)\n",
      "Requirement already satisfied: torch>=1.0.0 in c:\\users\\marcelojtc\\anaconda3\\envs\\dsenv\\lib\\site-packages (from stanfordnlp==0.2.0) (1.13.0)\n",
      "Requirement already satisfied: numpy in c:\\users\\marcelojtc\\anaconda3\\envs\\dsenv\\lib\\site-packages (from stanfordnlp==0.2.0) (1.23.4)\n",
      "Requirement already satisfied: typing-extensions in c:\\users\\marcelojtc\\anaconda3\\envs\\dsenv\\lib\\site-packages (from torch>=1.0.0->stanfordnlp==0.2.0) (4.4.0)\n",
      "Requirement already satisfied: certifi>=2017.4.17 in c:\\users\\marcelojtc\\anaconda3\\envs\\dsenv\\lib\\site-packages (from requests->stanfordnlp==0.2.0) (2022.9.24)\n",
      "Requirement already satisfied: charset-normalizer<3,>=2 in c:\\users\\marcelojtc\\anaconda3\\envs\\dsenv\\lib\\site-packages (from requests->stanfordnlp==0.2.0) (2.1.1)\n",
      "Requirement already satisfied: idna<4,>=2.5 in c:\\users\\marcelojtc\\anaconda3\\envs\\dsenv\\lib\\site-packages (from requests->stanfordnlp==0.2.0) (3.4)\n",
      "Requirement already satisfied: urllib3<1.27,>=1.21.1 in c:\\users\\marcelojtc\\anaconda3\\envs\\dsenv\\lib\\site-packages (from requests->stanfordnlp==0.2.0) (1.26.12)\n",
      "Requirement already satisfied: colorama in c:\\users\\marcelojtc\\anaconda3\\envs\\dsenv\\lib\\site-packages (from tqdm->stanfordnlp==0.2.0) (0.4.6)\n"
     ]
    }
   ],
   "source": [
    "!pip install stanfordnlp==0.2.0\n"
   ]
  },
  {
   "cell_type": "code",
   "execution_count": null,
   "id": "e78bd15e-ba92-47b8-8433-fa2e7068a005",
   "metadata": {},
   "outputs": [],
   "source": []
  }
 ],
 "metadata": {
  "kernelspec": {
   "display_name": "Python 3 (ipykernel)",
   "language": "python",
   "name": "python3"
  },
  "language_info": {
   "codemirror_mode": {
    "name": "ipython",
    "version": 3
   },
   "file_extension": ".py",
   "mimetype": "text/x-python",
   "name": "python",
   "nbconvert_exporter": "python",
   "pygments_lexer": "ipython3",
   "version": "3.9.13"
  }
 },
 "nbformat": 4,
 "nbformat_minor": 5
}
