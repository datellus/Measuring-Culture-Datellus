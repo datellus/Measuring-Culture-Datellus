{
 "cells": [
  {
   "cell_type": "code",
   "execution_count": 3,
   "id": "10684759-6e5f-40b0-9e46-dbee25a000ad",
   "metadata": {},
   "outputs": [
    {
     "name": "stdout",
     "output_type": "stream",
     "text": [
      "---\n",
      "input text\n",
      "\n",
      "Chris Manning is a nice person. Chris wrote a simple sentence. He also gives oranges to people.\n",
      "---\n",
      "starting up Java Stanford CoreNLP Server...\n",
      "Starting server with command: java -Xmx16G -cp /stanford-corenlp-4.5.1/* edu.stanford.nlp.pipeline.StanfordCoreNLPServer -port 9000 -timeout 30000 -threads 5 -maxCharLength 100000 -quiet True -serverProperties corenlp_server-b354abddcbb4478e.props -preload tokenize,ssplit,pos,lemma,ner,parse,depparse,coref\n"
     ]
    },
    {
     "ename": "FileNotFoundError",
     "evalue": "[WinError 2] El sistema no puede encontrar el archivo especificado",
     "output_type": "error",
     "traceback": [
      "\u001b[1;31m---------------------------------------------------------------------------\u001b[0m",
      "\u001b[1;31mFileNotFoundError\u001b[0m                         Traceback (most recent call last)",
      "\u001b[1;32m~\\AppData\\Local\\Temp\\ipykernel_14340\\2642503239.py\u001b[0m in \u001b[0;36m<module>\u001b[1;34m\u001b[0m\n\u001b[0;32m     18\u001b[0m \u001b[1;33m\u001b[0m\u001b[0m\n\u001b[0;32m     19\u001b[0m \u001b[1;31m# set up the client\u001b[0m\u001b[1;33m\u001b[0m\u001b[1;33m\u001b[0m\u001b[0m\n\u001b[1;32m---> 20\u001b[1;33m \u001b[1;32mwith\u001b[0m \u001b[0mCoreNLPClient\u001b[0m\u001b[1;33m(\u001b[0m\u001b[0mannotators\u001b[0m\u001b[1;33m=\u001b[0m\u001b[1;33m[\u001b[0m\u001b[1;34m'tokenize'\u001b[0m\u001b[1;33m,\u001b[0m\u001b[1;34m'ssplit'\u001b[0m\u001b[1;33m,\u001b[0m\u001b[1;34m'pos'\u001b[0m\u001b[1;33m,\u001b[0m\u001b[1;34m'lemma'\u001b[0m\u001b[1;33m,\u001b[0m\u001b[1;34m'ner'\u001b[0m\u001b[1;33m,\u001b[0m \u001b[1;34m'parse'\u001b[0m\u001b[1;33m,\u001b[0m \u001b[1;34m'depparse'\u001b[0m\u001b[1;33m,\u001b[0m\u001b[1;34m'coref'\u001b[0m\u001b[1;33m]\u001b[0m\u001b[1;33m,\u001b[0m \u001b[0mtimeout\u001b[0m\u001b[1;33m=\u001b[0m\u001b[1;36m30000\u001b[0m\u001b[1;33m,\u001b[0m \u001b[0mmemory\u001b[0m\u001b[1;33m=\u001b[0m\u001b[1;34m'16G'\u001b[0m\u001b[1;33m)\u001b[0m \u001b[1;32mas\u001b[0m \u001b[0mclient\u001b[0m\u001b[1;33m:\u001b[0m\u001b[1;33m\u001b[0m\u001b[1;33m\u001b[0m\u001b[0m\n\u001b[0m\u001b[0;32m     21\u001b[0m     \u001b[1;31m# submit the request to the server\u001b[0m\u001b[1;33m\u001b[0m\u001b[1;33m\u001b[0m\u001b[0m\n\u001b[0;32m     22\u001b[0m     \u001b[0mann\u001b[0m \u001b[1;33m=\u001b[0m \u001b[0mclient\u001b[0m\u001b[1;33m.\u001b[0m\u001b[0mannotate\u001b[0m\u001b[1;33m(\u001b[0m\u001b[0mtext\u001b[0m\u001b[1;33m)\u001b[0m\u001b[1;33m\u001b[0m\u001b[1;33m\u001b[0m\u001b[0m\n",
      "\u001b[1;32m~\\anaconda3\\lib\\site-packages\\stanfordnlp\\server\\client.py\u001b[0m in \u001b[0;36m__enter__\u001b[1;34m(self)\u001b[0m\n\u001b[0;32m    105\u001b[0m \u001b[1;33m\u001b[0m\u001b[0m\n\u001b[0;32m    106\u001b[0m     \u001b[1;32mdef\u001b[0m \u001b[0m__enter__\u001b[0m\u001b[1;33m(\u001b[0m\u001b[0mself\u001b[0m\u001b[1;33m)\u001b[0m\u001b[1;33m:\u001b[0m\u001b[1;33m\u001b[0m\u001b[1;33m\u001b[0m\u001b[0m\n\u001b[1;32m--> 107\u001b[1;33m         \u001b[0mself\u001b[0m\u001b[1;33m.\u001b[0m\u001b[0mstart\u001b[0m\u001b[1;33m(\u001b[0m\u001b[1;33m)\u001b[0m\u001b[1;33m\u001b[0m\u001b[1;33m\u001b[0m\u001b[0m\n\u001b[0m\u001b[0;32m    108\u001b[0m         \u001b[1;32mreturn\u001b[0m \u001b[0mself\u001b[0m\u001b[1;33m\u001b[0m\u001b[1;33m\u001b[0m\u001b[0m\n\u001b[0;32m    109\u001b[0m \u001b[1;33m\u001b[0m\u001b[0m\n",
      "\u001b[1;32m~\\anaconda3\\lib\\site-packages\\stanfordnlp\\server\\client.py\u001b[0m in \u001b[0;36mstart\u001b[1;34m(self)\u001b[0m\n\u001b[0;32m     93\u001b[0m                 \u001b[0mstderr\u001b[0m \u001b[1;33m=\u001b[0m \u001b[0mself\u001b[0m\u001b[1;33m.\u001b[0m\u001b[0mstderr\u001b[0m\u001b[1;33m\u001b[0m\u001b[1;33m\u001b[0m\u001b[0m\n\u001b[0;32m     94\u001b[0m             \u001b[0mprint\u001b[0m\u001b[1;33m(\u001b[0m\u001b[1;34mf\"Starting server with command: {' '.join(self.start_cmd)}\"\u001b[0m\u001b[1;33m)\u001b[0m\u001b[1;33m\u001b[0m\u001b[1;33m\u001b[0m\u001b[0m\n\u001b[1;32m---> 95\u001b[1;33m             self.server = subprocess.Popen(self.start_cmd,\n\u001b[0m\u001b[0;32m     96\u001b[0m                                            \u001b[0mstderr\u001b[0m\u001b[1;33m=\u001b[0m\u001b[0mstderr\u001b[0m\u001b[1;33m,\u001b[0m\u001b[1;33m\u001b[0m\u001b[1;33m\u001b[0m\u001b[0m\n\u001b[0;32m     97\u001b[0m                                            stdout=stderr)\n",
      "\u001b[1;32m~\\anaconda3\\lib\\subprocess.py\u001b[0m in \u001b[0;36m__init__\u001b[1;34m(self, args, bufsize, executable, stdin, stdout, stderr, preexec_fn, close_fds, shell, cwd, env, universal_newlines, startupinfo, creationflags, restore_signals, start_new_session, pass_fds, user, group, extra_groups, encoding, errors, text, umask)\u001b[0m\n\u001b[0;32m    949\u001b[0m                             encoding=encoding, errors=errors)\n\u001b[0;32m    950\u001b[0m \u001b[1;33m\u001b[0m\u001b[0m\n\u001b[1;32m--> 951\u001b[1;33m             self._execute_child(args, executable, preexec_fn, close_fds,\n\u001b[0m\u001b[0;32m    952\u001b[0m                                 \u001b[0mpass_fds\u001b[0m\u001b[1;33m,\u001b[0m \u001b[0mcwd\u001b[0m\u001b[1;33m,\u001b[0m \u001b[0menv\u001b[0m\u001b[1;33m,\u001b[0m\u001b[1;33m\u001b[0m\u001b[1;33m\u001b[0m\u001b[0m\n\u001b[0;32m    953\u001b[0m                                 \u001b[0mstartupinfo\u001b[0m\u001b[1;33m,\u001b[0m \u001b[0mcreationflags\u001b[0m\u001b[1;33m,\u001b[0m \u001b[0mshell\u001b[0m\u001b[1;33m,\u001b[0m\u001b[1;33m\u001b[0m\u001b[1;33m\u001b[0m\u001b[0m\n",
      "\u001b[1;32m~\\anaconda3\\lib\\subprocess.py\u001b[0m in \u001b[0;36m_execute_child\u001b[1;34m(self, args, executable, preexec_fn, close_fds, pass_fds, cwd, env, startupinfo, creationflags, shell, p2cread, p2cwrite, c2pread, c2pwrite, errread, errwrite, unused_restore_signals, unused_gid, unused_gids, unused_uid, unused_umask, unused_start_new_session)\u001b[0m\n\u001b[0;32m   1418\u001b[0m             \u001b[1;31m# Start the process\u001b[0m\u001b[1;33m\u001b[0m\u001b[1;33m\u001b[0m\u001b[0m\n\u001b[0;32m   1419\u001b[0m             \u001b[1;32mtry\u001b[0m\u001b[1;33m:\u001b[0m\u001b[1;33m\u001b[0m\u001b[1;33m\u001b[0m\u001b[0m\n\u001b[1;32m-> 1420\u001b[1;33m                 hp, ht, pid, tid = _winapi.CreateProcess(executable, args,\n\u001b[0m\u001b[0;32m   1421\u001b[0m                                          \u001b[1;31m# no special security\u001b[0m\u001b[1;33m\u001b[0m\u001b[1;33m\u001b[0m\u001b[0m\n\u001b[0;32m   1422\u001b[0m                                          \u001b[1;32mNone\u001b[0m\u001b[1;33m,\u001b[0m \u001b[1;32mNone\u001b[0m\u001b[1;33m,\u001b[0m\u001b[1;33m\u001b[0m\u001b[1;33m\u001b[0m\u001b[0m\n",
      "\u001b[1;31mFileNotFoundError\u001b[0m: [WinError 2] El sistema no puede encontrar el archivo especificado"
     ]
    }
   ],
   "source": [
    "from stanza.server import CoreNLPClient\n",
    "import os\n",
    "os.environ[\n",
    "    \"CORENLP_HOME\"\n",
    "] = \"/stanfordstanza\"\n",
    "# example text\n",
    "print('---')\n",
    "print('input text')\n",
    "print('')\n",
    "\n",
    "text = \"Chris Manning is a nice person. Chris wrote a simple sentence. He also gives oranges to people.\"\n",
    "\n",
    "print(text)\n",
    "\n",
    "# set up the client\n",
    "print('---')\n",
    "print('starting up Java Stanford CoreNLP Server...')\n",
    "\n",
    "# set up the client\n",
    "with CoreNLPClient(annotators=['tokenize','ssplit','pos','lemma','ner', 'parse', 'depparse','coref'], timeout=30000, memory='16G') as client:\n",
    "    # submit the request to the server\n",
    "    ann = client.annotate(text)\n",
    "\n",
    "    # get the first sentence\n",
    "    sentence = ann.sentence[0]\n",
    "    \n",
    "    # get the constituency parse of the first sentence\n",
    "    print('---')\n",
    "    print('constituency parse of first sentence')\n",
    "    constituency_parse = sentence.parseTree\n",
    "    print(constituency_parse)\n",
    "\n",
    "    # get the first subtree of the constituency parse\n",
    "    print('---')\n",
    "    print('first subtree of constituency parse')\n",
    "    print(constituency_parse.child[0])\n",
    "\n",
    "    # get the value of the first subtree\n",
    "    print('---')\n",
    "    print('value of first subtree of constituency parse')\n",
    "    print(constituency_parse.child[0].value)\n",
    "\n",
    "    # get the dependency parse of the first sentence\n",
    "    print('---')\n",
    "    print('dependency parse of first sentence')\n",
    "    dependency_parse = sentence.basicDependencies\n",
    "    print(dependency_parse)\n",
    "\n",
    "    # get the first token of the first sentence\n",
    "    print('---')\n",
    "    print('first token of first sentence')\n",
    "    token = sentence.token[0]\n",
    "    print(token)\n",
    "\n",
    "    # get the part-of-speech tag\n",
    "    print('---')\n",
    "    print('part of speech tag of token')\n",
    "    token.pos\n",
    "    print(token.pos)\n",
    "\n",
    "    # get the named entity tag\n",
    "    print('---')\n",
    "    print('named entity tag of token')\n",
    "    print(token.ner)\n",
    "\n",
    "    # get an entity mention from the first sentence\n",
    "    print('---')\n",
    "    print('first entity mention in sentence')\n",
    "    print(sentence.mentions[0])\n",
    "\n",
    "    # access the coref chain\n",
    "    print('---')\n",
    "    print('coref chains for the example')\n",
    "    print(ann.corefChain)\n",
    "\n",
    "    # Use tokensregex patterns to find who wrote a sentence.\n",
    "    pattern = '([ner: PERSON]+) /wrote/ /an?/ []{0,3} /sentence|article/'\n",
    "    matches = client.tokensregex(text, pattern)\n",
    "    # sentences contains a list with matches for each sentence.\n",
    "    assert len(matches[\"sentences\"]) == 3\n",
    "    # length tells you whether or not there are any matches in this\n",
    "    assert matches[\"sentences\"][1][\"length\"] == 1\n",
    "    # You can access matches like most regex groups.\n",
    "    matches[\"sentences\"][1][\"0\"][\"text\"] == \"Chris wrote a simple sentence\"\n",
    "    matches[\"sentences\"][1][\"0\"][\"1\"][\"text\"] == \"Chris\"\n",
    "\n",
    "    # Use semgrex patterns to directly find who wrote what.\n",
    "    pattern = '{word:wrote} >nsubj {}=subject >dobj {}=object'\n",
    "    matches = client.semgrex(text, pattern)\n",
    "    # sentences contains a list with matches for each sentence.\n",
    "    assert len(matches[\"sentences\"]) == 3\n",
    "    # length tells you whether or not there are any matches in this\n",
    "    assert matches[\"sentences\"][1][\"length\"] == 1\n",
    "    # You can access matches like most regex groups.\n",
    "    matches[\"sentences\"][1][\"0\"][\"text\"] == \"wrote\"\n",
    "    matches[\"sentences\"][1][\"0\"][\"$subject\"][\"text\"] == \"Chris\"\n",
    "    matches[\"sentences\"][1][\"0\"][\"$object\"][\"text\"] == \"sentence\""
   ]
  },
  {
   "cell_type": "code",
   "execution_count": 3,
   "id": "9949a433-c3ad-488e-a4a0-517845cb9a7f",
   "metadata": {},
   "outputs": [
    {
     "name": "stdout",
     "output_type": "stream",
     "text": [
      "Requirement already satisfied: stanfordnlp==0.2.0 in c:\\users\\marcelojtc\\anaconda3\\envs\\dsenv\\lib\\site-packages (0.2.0)\n",
      "Requirement already satisfied: tqdm in c:\\users\\marcelojtc\\anaconda3\\envs\\dsenv\\lib\\site-packages (from stanfordnlp==0.2.0) (4.64.1)\n",
      "Requirement already satisfied: requests in c:\\users\\marcelojtc\\anaconda3\\envs\\dsenv\\lib\\site-packages (from stanfordnlp==0.2.0) (2.28.1)\n",
      "Requirement already satisfied: protobuf in c:\\users\\marcelojtc\\anaconda3\\envs\\dsenv\\lib\\site-packages (from stanfordnlp==0.2.0) (3.19.6)\n",
      "Requirement already satisfied: torch>=1.0.0 in c:\\users\\marcelojtc\\anaconda3\\envs\\dsenv\\lib\\site-packages (from stanfordnlp==0.2.0) (1.13.0)\n",
      "Requirement already satisfied: numpy in c:\\users\\marcelojtc\\anaconda3\\envs\\dsenv\\lib\\site-packages (from stanfordnlp==0.2.0) (1.23.4)\n",
      "Requirement already satisfied: typing-extensions in c:\\users\\marcelojtc\\anaconda3\\envs\\dsenv\\lib\\site-packages (from torch>=1.0.0->stanfordnlp==0.2.0) (4.4.0)\n",
      "Requirement already satisfied: certifi>=2017.4.17 in c:\\users\\marcelojtc\\anaconda3\\envs\\dsenv\\lib\\site-packages (from requests->stanfordnlp==0.2.0) (2022.9.24)\n",
      "Requirement already satisfied: charset-normalizer<3,>=2 in c:\\users\\marcelojtc\\anaconda3\\envs\\dsenv\\lib\\site-packages (from requests->stanfordnlp==0.2.0) (2.1.1)\n",
      "Requirement already satisfied: idna<4,>=2.5 in c:\\users\\marcelojtc\\anaconda3\\envs\\dsenv\\lib\\site-packages (from requests->stanfordnlp==0.2.0) (3.4)\n",
      "Requirement already satisfied: urllib3<1.27,>=1.21.1 in c:\\users\\marcelojtc\\anaconda3\\envs\\dsenv\\lib\\site-packages (from requests->stanfordnlp==0.2.0) (1.26.12)\n",
      "Requirement already satisfied: colorama in c:\\users\\marcelojtc\\anaconda3\\envs\\dsenv\\lib\\site-packages (from tqdm->stanfordnlp==0.2.0) (0.4.6)\n"
     ]
    }
   ],
   "source": [
    "!pip install stanfordnlp==0.2.0\n"
   ]
  },
  {
   "cell_type": "code",
   "execution_count": null,
   "id": "e78bd15e-ba92-47b8-8433-fa2e7068a005",
   "metadata": {},
   "outputs": [],
   "source": []
  }
 ],
 "metadata": {
  "kernelspec": {
   "display_name": "Python 3 (ipykernel)",
   "language": "python",
   "name": "python3"
  },
  "language_info": {
   "codemirror_mode": {
    "name": "ipython",
    "version": 3
   },
   "file_extension": ".py",
   "mimetype": "text/x-python",
   "name": "python",
   "nbconvert_exporter": "python",
   "pygments_lexer": "ipython3",
   "version": "3.9.13"
  }
 },
 "nbformat": 4,
 "nbformat_minor": 5
}
