{
 "cells": [
  {
   "cell_type": "code",
   "execution_count": 1,
   "id": "8fbfa7e9-692b-490d-b52e-29eab4b53888",
   "metadata": {},
   "outputs": [],
   "source": [
    "with open('documents.txt' , newline=\"\\n\", encoding=\"utf-8\", errors=\"ignore\") as f:\n",
    "    lines = f.readlines()"
   ]
  },
  {
   "cell_type": "code",
   "execution_count": 2,
   "id": "9cda44a8-60b9-4f60-8d7e-e3bdc765fd16",
   "metadata": {},
   "outputs": [
    {
     "data": {
      "text/plain": [
       "1393"
      ]
     },
     "execution_count": 2,
     "metadata": {},
     "output_type": "execute_result"
    }
   ],
   "source": [
    "len(lines)"
   ]
  },
  {
   "cell_type": "code",
   "execution_count": 4,
   "id": "f55fc2e4-345f-460c-a6ee-2e8bafcf9272",
   "metadata": {},
   "outputs": [],
   "source": [
    "with open('singledoc.txt', 'w') as f:\n",
    "    f.write(lines[0])"
   ]
  },
  {
   "cell_type": "code",
   "execution_count": 5,
   "id": "45d7e2a9-5879-4a23-8767-b2d606461318",
   "metadata": {},
   "outputs": [],
   "source": [
    "with open('document_ids.txt' , newline=\"\\n\", encoding=\"utf-8\", errors=\"ignore\") as f:\n",
    "    lines = f.readlines()"
   ]
  },
  {
   "cell_type": "code",
   "execution_count": 6,
   "id": "31a3b949-c7a4-4084-853f-8b4cb93c008e",
   "metadata": {},
   "outputs": [],
   "source": [
    "with open('singleid.txt', 'w') as f:\n",
    "    f.write(lines[0])"
   ]
  },
  {
   "cell_type": "code",
   "execution_count": 9,
   "id": "59c7e294-e0eb-4e19-9ff6-eea7fed0eba0",
   "metadata": {},
   "outputs": [
    {
     "data": {
      "text/plain": [
       "1393"
      ]
     },
     "execution_count": 9,
     "metadata": {},
     "output_type": "execute_result"
    }
   ],
   "source": [
    "len(lines)"
   ]
  },
  {
   "cell_type": "code",
   "execution_count": null,
   "id": "008e3155-4a16-46dc-802d-cdfb75dd6a8b",
   "metadata": {},
   "outputs": [],
   "source": []
  }
 ],
 "metadata": {
  "kernelspec": {
   "display_name": "Python 3 (ipykernel)",
   "language": "python",
   "name": "python3"
  },
  "language_info": {
   "codemirror_mode": {
    "name": "ipython",
    "version": 3
   },
   "file_extension": ".py",
   "mimetype": "text/x-python",
   "name": "python",
   "nbconvert_exporter": "python",
   "pygments_lexer": "ipython3",
   "version": "3.9.13"
  }
 },
 "nbformat": 4,
 "nbformat_minor": 5
}
